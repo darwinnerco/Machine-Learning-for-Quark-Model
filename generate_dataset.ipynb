{
  "cells": [
    {
      "cell_type": "markdown",
      "metadata": {
        "id": "ihGJz03ly3pB"
      },
      "source": [
        "**Machine Learning for the Quark Model**\n",
        "\n",
        "Dataset Generation"
      ]
    },
    {
      "cell_type": "code",
      "source": [
        "# Import libraries\n",
        "from scipy.optimize import fsolve\n",
        "import numpy as np\n",
        "import warnings\n",
        "warnings.filterwarnings('ignore')"
      ],
      "metadata": {
        "id": "8rGesgdscl2Q"
      },
      "execution_count": null,
      "outputs": []
    },
    {
      "cell_type": "code",
      "source": [
        "# Input experimental data (Mass, n, L, j, J, m_q, m_Q)\n",
        "data = np.loadtxt('hadrons_data.csv', skiprows=1, delimiter=',')\n",
        "\n",
        "# Create an array for storing final results\n",
        "results =[]"
      ],
      "metadata": {
        "id": "d_npa0CI8E4C"
      },
      "execution_count": null,
      "outputs": []
    },
    {
      "cell_type": "code",
      "source": [
        "# Run the code for individual quark systems\n",
        "for s in [1,2,3,4]:\n",
        "\n",
        "  if s==1:  # (D mesons)\n",
        "    r = np.arange(0,321,1)\n",
        "  elif s==2:  # (D_s mesons)\n",
        "    r = np.arange(321,747,1)\n",
        "  elif s==3:  # (B mesons)\n",
        "    r = np.arange(747,857,1)\n",
        "  elif s==4:  # (B_s mesons)\n",
        "    r = np.arange(857,986,1)\n",
        "  \n",
        "  # Run the code N number of times\n",
        "  N = 10\n",
        "  for z in range(N):\n",
        "\n",
        "    # We generate random 8 indices from our data\n",
        "    index = np.random.choice(r, 8, replace=False)\n",
        "\n",
        "    # This is the function to get the 8 equations\n",
        "    def equations(params):\n",
        "      a1, a2, b, c, c1, c2, c3, c4 = params\n",
        "\n",
        "      # We define a function for the mass formula\n",
        "      def Massformula(vars):\n",
        "\n",
        "          # These are the variables or inputs\n",
        "          M, n, L, j, J, m_q, m_Q = vars\n",
        "\n",
        "          s = 1/2\n",
        "\n",
        "          L_Sq = 1/2 * (j*(j+1) - L*(L+1) - s*(s+1))\n",
        "\n",
        "          if L != J:\n",
        "            Sq_SQ = 1/4\n",
        "\n",
        "            if L == J+1:\n",
        "              S_12 = (-2*(J+2))/(2*J+1)\n",
        "            elif L == J-1:\n",
        "              S_12 = (-2*(J-1))/(2*J+1)\n",
        "\n",
        "          elif L == J and J == 0:\n",
        "            Sq_SQ = -3/4\n",
        "            S_12 = 0\n",
        "\n",
        "          elif L == J and J != 0:\n",
        "            S_12 = 2\n",
        "\n",
        "            if j == L+1/2:\n",
        "              Sq_SQ = (-2*L-3)/(8*L+4)\n",
        "            elif j == L-1/2:\n",
        "              Sq_SQ = (-2*L+1)/(8*L+4)\n",
        "\n",
        "          L_SQ = 1/2 * (J*(J+1) - L*(L+1) - 2*s*(s+1)- 2*L_Sq - 2*Sq_SQ)\n",
        "\n",
        "          H = a1*L_Sq + a2*L_SQ + b*S_12 + c*Sq_SQ\n",
        "\n",
        "          M_tot = (c1*n + c2*L + c3)**(1/2) + H/(m_q*m_Q) + m_q + m_Q + c4\n",
        "\n",
        "          return M_tot - M       # This is right hand side minus left hand side, should be minimized\n",
        "        \n",
        "      # Here we get the 8 equations we need; we input the data into the mass fomula\n",
        "      eqs = []\n",
        "      for i in index:\n",
        "        eq = Massformula((data[i][0], data[i][1], data[i][2], data[i][3], data[i][4], data[i][5], data[i][6]))\n",
        "        eqs.append(eq)\n",
        "      \n",
        "      # We obtain the equations\n",
        "      return eqs\n",
        "\n",
        "    # This solves the equations, with initial guesses in the parenthesis\n",
        "    a = fsolve(equations, (0.5,0.3,0.5,0.2,1,1,1,1))\n",
        "    answer = [a[0], a[1], a[2], a[3], a[4], a[5], a[6], a[7]]\n",
        "\n",
        "    # Store the results into the array\n",
        "    results.append(answer)"
      ],
      "metadata": {
        "id": "EOl3EQbUdjzo"
      },
      "execution_count": null,
      "outputs": []
    },
    {
      "cell_type": "code",
      "source": [
        "# Export our results\n",
        "np.savetxt(\"training_dataset.csv\", np.array(results), delimiter=\",\")"
      ],
      "metadata": {
        "id": "cW-YEQQYoHcl"
      },
      "execution_count": null,
      "outputs": []
    }
  ],
  "metadata": {
    "colab": {
      "provenance": []
    },
    "kernelspec": {
      "display_name": "Python 3",
      "name": "python3"
    },
    "language_info": {
      "name": "python"
    }
  },
  "nbformat": 4,
  "nbformat_minor": 0
}